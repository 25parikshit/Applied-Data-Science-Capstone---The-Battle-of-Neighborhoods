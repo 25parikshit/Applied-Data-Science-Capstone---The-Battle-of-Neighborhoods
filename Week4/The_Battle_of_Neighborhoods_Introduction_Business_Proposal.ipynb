{
 "cells": [
  {
   "cell_type": "markdown",
   "id": "c2a9fb63",
   "metadata": {},
   "source": [
    "## The Battle of Neighborhoods | Business Problem | Introduction\n",
    "\n",
    "Toronto city is the capital of the Canadian Province of Canada and its demographics shows that it is one of the most multicultural and multiracial cities in the world. It is the most populous city of Canada and fourth most populous city of North America. The diverse population of Toronto reflects its current and historical role as an important destination for immigrants to Canada. More than 50 percent of residents belong to a visible minority population group, and over 200 distinct ethnic origins are represented among its inhabitants. Annually, almost half of all immigrants to Canada settle in the Greater Toronto Area. East Asians made up the largest ethnic group (33 percent), with South Asians (28 percent) coming in second of the city of Toronto's overall population. Indians have played major role in immigration from south Asia to Canada. Toronto has the largest Indian Canadian population in Canada. Almost 51% of the entire Indian Canadian community resides in the Greater Toronto Area. Most Indian Canadians in the Toronto area live in Brampton, Markham, Scarborough, Etobicoke, and Mississauga. \n",
    "\n",
    "Toronto with being such a diverse city with so many communities having presence is a great place for the restaurant prospects and for finding variety food. Therefore, there are many types of restaurants serving food from different cultures such as Chinese, Japanese, Indian, Italian, etc. Indians having a visible presence as a community in the city of Toronto, there are plenty of Indian restaurants available in Toronto.  \n",
    "\n",
    "The aim of this project is to obtain the data of Indian restaurants located in various neighborhoods, boroughs in Toronto and organize the data based on neighborhood, likes and ratings of restaurants, which can help people to gain clear information about Indian restaurants located in Toronto. \n",
    "\n",
    " \n",
    "\n",
    "#### Problems to be solved: \n",
    "Based on the collected information of Indian restaurants located in Toronto, the aim of this project is to find the answers of following questions: \n",
    "\n",
    "1. List major parts/neighborhoods of the city of Toronto that have great Indian restaurants. \n",
    "\n",
    "2. Find out the best location in the city of Toronto for best Indian cuisine. \n",
    "\n",
    "3. Which areas of Toronto lack Indian restaurants? \n",
    "\n",
    "4. Which is the best place to stay in Toronto if you like Indian food? "
   ]
  },
  {
   "cell_type": "code",
   "execution_count": null,
   "id": "5093a7f8",
   "metadata": {},
   "outputs": [],
   "source": []
  }
 ],
 "metadata": {
  "kernelspec": {
   "display_name": "Python 3",
   "language": "python",
   "name": "python3"
  },
  "language_info": {
   "codemirror_mode": {
    "name": "ipython",
    "version": 3
   },
   "file_extension": ".py",
   "mimetype": "text/x-python",
   "name": "python",
   "nbconvert_exporter": "python",
   "pygments_lexer": "ipython3",
   "version": "3.8.8"
  }
 },
 "nbformat": 4,
 "nbformat_minor": 5
}
