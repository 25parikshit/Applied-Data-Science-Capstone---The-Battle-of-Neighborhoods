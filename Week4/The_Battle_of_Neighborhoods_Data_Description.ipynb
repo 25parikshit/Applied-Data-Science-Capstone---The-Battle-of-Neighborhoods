{
 "cells": [
  {
   "cell_type": "markdown",
   "id": "d79bb2f8",
   "metadata": {},
   "source": [
    "## The Battle of Neighborhoods | Data Description"
   ]
  },
  {
   "cell_type": "markdown",
   "id": "c6b187ad",
   "metadata": {},
   "source": [
    "We will be using a Wikipedia link to scrap the data of different neighborhoods and boroughs in Toronto.  Using the link, we will be preparing the dataset containing the details of different neighborhoods, boroughs and their respective latitudes, longitudes with the help of libraries such as bs4, json and pandas, etc. \n",
    "\n",
    "Link: https://en.wikipedia.org/wiki/List_of_postal_codes_of_Canada:_M \n",
    "\n",
    "#### Foursquare API\n",
    "\n",
    "We will need data about different venues in different neighborhoods of that specific borough. In order to gain that information, we will use \"Foursquare\" locational information. Foursquare is a location data provider with information about all manner of venues and events within an area of interest. Such information includes venue names, locations, menus and even photos. As such, the foursquare location platform will be used as the sole data source since all the stated required information can be obtained through the API. After finding the list of neighborhoods, we then connect to the Foursquare API to gather information about venues inside each and every neighborhood. For each neighborhood, we have chosen the radius to be 1000 meters and the limit of number of venues to be 200. We can filter these venues to get only those venues that are categorized as Indian restaurants. \n",
    "\n",
    "The data retrieved from Foursquare contained information of venues within a specified distance of the longitude and latitude of the postcodes. The information obtained per venue as follows: 1. Restaurant Borough 2. Restaurant Neighborhood 3. Venue ID(Restaurants) 4. Venue name e.g., the name of a restaurant 5. Restaurant Likes 6. Restaurant Rating 7. Restaurant Tips "
   ]
  },
  {
   "cell_type": "code",
   "execution_count": null,
   "id": "19fed834",
   "metadata": {},
   "outputs": [],
   "source": []
  }
 ],
 "metadata": {
  "kernelspec": {
   "display_name": "Python 3",
   "language": "python",
   "name": "python3"
  },
  "language_info": {
   "codemirror_mode": {
    "name": "ipython",
    "version": 3
   },
   "file_extension": ".py",
   "mimetype": "text/x-python",
   "name": "python",
   "nbconvert_exporter": "python",
   "pygments_lexer": "ipython3",
   "version": "3.8.8"
  }
 },
 "nbformat": 4,
 "nbformat_minor": 5
}
